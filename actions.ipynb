import pandas as pd
import numpy as np
import matplotlib.pyplot as plt
import seaborn as sns
from datetime import datetime

def analyze_and_recommend(users_file='users.csv', repos_file='repositories.csv'):
    # Load and preprocess the user and repository data
    users_df = pd.read_csv(users_file)
    repos_df = pd.read_csv(repos_file)
    
    # Convert 'created_at' to datetime and remove timezone information
    users_df['created_at'] = pd.to_datetime(users_df['created_at']).dt.tz_convert(None)
    repos_df['created_at'] = pd.to_datetime(repos_df['created_at']).dt.tz_convert(None)
    
    # Calculate account age in years
    users_df['account_age'] = (datetime.now() - users_df['created_at']).dt.total_seconds() / (365.25 * 24 * 60 * 60)
    
    # Summarize total stars received by each user
    user_stars = repos_df.groupby('login')['stargazers_count'].sum().reset_index()
    users_df = users_df.merge(user_stars, on='login', how='left')
    
    # Compute important metrics
    users_df['stars_per_repo'] = users_df['stargazers_count'] / users_df['public_repos']
    users_df['followers_per_year'] = users_df['followers'] / users_df['account_age']
    
    # Define thresholds for success metrics
    follower_threshold = users_df['followers'].quantile(0.75)
    stars_threshold = users_df['stargazers_count'].quantile(0.75)
    users_df['is_successful'] = (
        (users_df['followers'] > follower_threshold) | 
        (users_df['stargazers_count'] > stars_threshold)
    )
    
    # Separate successful developers from others
    successful_devs = users_df[users_df['is_successful']]
    other_devs = users_df[~users_df['is_successful']]
    
    # Analyze repository characteristics for both groups
    successful_repos = repos_df[repos_df['login'].isin(successful_devs['login'])]
    other_repos = repos_df[repos_df['login'].isin(other_devs['login'])]
    
    # 1. Analyze License Usage
    successful_license_rate = successful_repos['license_name'].notna().mean()
    other_license_rate = other_repos['license_name'].notna().mean()
    
    # 2. Analyze Documentation Usage
    successful_wiki_rate = successful_repos['has_wiki'].mean()
    other_wiki_rate = other_repos['has_wiki'].mean()
    
    # 3. Analyze Language Popularity
    successful_langs = successful_repos['language'].value_counts().head(5)
    
    # 4. Analyze Project Management Usage
    successful_project_rate = successful_repos['has_projects'].mean()
    other_project_rate = other_repos['has_projects'].mean()
    
    # Visualization
    plt.figure(figsize=(15, 10))
    
    # Plot 1: Feature Adoption Comparison
    plt.subplot(2, 2, 1)
    comparison_data = pd.DataFrame({
        'Successful': [successful_license_rate, successful_wiki_rate, successful_project_rate],
        'Others': [other_license_rate, other_wiki_rate, other_project_rate]
    }, index=['Licenses', 'Wikis', 'Projects'])
    comparison_data.plot(kind='bar', ax=plt.gca())
    plt.title('Adoption Rates of Repository Features')
    plt.ylabel('Adoption Rate')
    plt.xticks(rotation=45)
    
    # Plot 2: Top Languages Used by Successful Developers
    plt.subplot(2, 2, 2)
    successful_langs.plot(kind='bar')
    plt.title('Popular Languages Among Successful Developers')
    plt.ylabel('Number of Repositories')
    plt.xticks(rotation=45)
    
    # Plot 3: Distribution of Repository Counts
    plt.subplot(2, 2, 3)
    sns.boxplot(data=users_df, x='is_successful', y='public_repos')
    plt.title('Distribution of Public Repository Counts')
    plt.xlabel('Successful Developer')
    plt.ylabel('Number of Public Repositories')
    
    # Plot 4: Distribution of Account Ages
    plt.subplot(2, 2, 4)
    sns.boxplot(data=users_df, x='is_successful', y='account_age')
    plt.title('Distribution of Account Ages')
    plt.xlabel('Successful Developer')
    plt.ylabel('Account Age (Years)')
    
    plt.tight_layout()
    plt.show()
    
    # Calculate average repositories for both groups
    avg_repos_successful = successful_devs['public_repos'].mean()
    avg_repos_others = other_devs['public_repos'].mean()
    
    # Generate actionable recommendations based on data analysis
    recommendations = []
    
    # 1. License Recommendation
    if successful_license_rate > other_license_rate * 1.1:  # 10% improvement threshold
        recommendations.append(
            f"Consider adding licenses to your repositories. Successful developers are {((successful_license_rate / other_license_rate) - 1) * 100:.1f}% "
            f"more likely to have licensed code, with {successful_license_rate * 100:.1f}% of their repositories featuring a license."
        )
    
    # 2. Documentation Recommendation
    if successful_wiki_rate > other_wiki_rate * 1.1:
        recommendations.append(
            f"Enhance your documentation efforts. Successful developers maintain wikis in {successful_wiki_rate * 100:.1f}% of their repositories, "
            f"which is {((successful_wiki_rate / other_wiki_rate) - 1) * 100:.1f}% higher than their peers."
        )
    
    # 3. Project Management Recommendation
    if successful_project_rate > other_project_rate * 1.1:
        recommendations.append(
            f"Utilize project boards more effectively. {successful_project_rate * 100:.1f}% of repositories by successful developers implement project management features, "
            f"as opposed to {other_project_rate * 100:.1f}% among others."
        )
    
    # 4. Repository Strategy
    if avg_repos_successful > avg_repos_others * 1.1:
        recommendations.append(
            f"Consider increasing the number of public repositories. Successful developers average {avg_repos_successful:.1f} public repositories, "
            f"while others average {avg_repos_others:.1f}."
        )
    
    # 5. Language Strategy
    recommendations.append(
        f"Focus on high-impact programming languages. The most popular languages among successful developers include: "
        f"{', '.join(successful_langs.head().index.tolist())}."
    )
    
    return recommendations

# Generate and print recommendations
recommendations = analyze_and_recommend()
print("\nActionable Recommendations for GitHub Developers:\n")
for i, rec in enumerate(recommendations, 1):
    print(f"{i}. {rec}")
